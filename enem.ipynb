{
 "cells": [
  {
   "cell_type": "markdown",
   "metadata": {},
   "source": [
    "# Análise e exploração e tratamento de dados com SQL e Duckdb\n",
    "\n",
    "Nesse Notebook venho apresentar um exemplo de análise e tratamento de dados de um arquivo CSV utilizando Duckdb.\n",
    "\n",
    "Como exemplo criei os seguintes indicadores como objeto de estudo.\n",
    "\n",
    "### Indicadores\n",
    "1. Qual é a quantidade e o percentual de candidatos formados e não formados no ensino médio?\n",
    "2. Qual é a distribuição de participação dos candidatos por:\n",
    "    - Estado;\n",
    "    - Tipo de escola (Pública e Privada)\n",
    "    - Sexo\n",
    "    - Cor/raça\n",
    "    - Faixa Etária"
   ]
  },
  {
   "cell_type": "markdown",
   "metadata": {},
   "source": [
    "## Análise dos dados\n",
    "\n",
    "Realizei o download do dataset ENEM 2023 no site do governo federal https://www.gov.br/inep/pt-br/acesso-a-informacao/dados-abertos/microdados/enem\n",
    "\n",
    "Após a leitura do docionário de dados disponível no path DICIONÁRIO/Dicionário_Microdados_Enem_2023.xlsx \n",
    "tentei realizar a leitura do arquivo e cheguei na seguinte solução para fazer a leitura pois enfrentei os seguintes desafios:\n",
    "\n",
    "- O dataset MICRODADOS_ENEM_2023 está no formato CSV encoding iso-8859 e possui mais de 1GB. O que é necessário realizar o tratamento do arquivo por partes otimizar a utilização dos recursos.\n",
    "- O dados de algumas colunas possuem um DE-PARA com a regra descrita no dicionário de dados. Para facilitar a análise dos dados será necessário realizar o DE-PARA dos valores no dataset\n",
    "\n",
    "## Soluções encontrada\n",
    "\n",
    "Como opção pessoal eu prefiro tratar os dados com SQL em um banco relacional do que ficar tratando lote de dados com pandas. \n",
    "\n",
    "Para não ter que utilizar sistemas SGBDs ou Docker resolvi testar a biblioteca Duckdb que está ganhando espaço no mercado.\n",
    "\n",
    "Pois, ela me permite salvar dados em um arquivo binário realizar instruções SQL de maneira fácil e rápida."
   ]
  },
  {
   "cell_type": "code",
   "execution_count": 1,
   "metadata": {},
   "outputs": [],
   "source": [
    "import duckdb\n",
    "\n"
   ]
  },
  {
   "cell_type": "code",
   "execution_count": 2,
   "metadata": {},
   "outputs": [],
   "source": [
    "path = r'DATA/DADOS/MICRODADOS_ENEM_2023.csv'\n",
    "\n",
    "columns = [\n",
    "    'NU_ANO', \n",
    "    'TP_FAIXA_ETARIA', \n",
    "    'TP_SEXO', \n",
    "    'TP_COR_RACA', \n",
    "    'TP_ANO_CONCLUIU', \n",
    "    'TP_ESCOLA', \n",
    "    'TP_ENSINO', \n",
    "    'SG_UF_ESC', \n",
    "    'TP_ST_CONCLUSAO'\n",
    "]\n"
   ]
  },
  {
   "cell_type": "markdown",
   "metadata": {},
   "source": [
    "### Criando arquivo de banco de dados"
   ]
  },
  {
   "cell_type": "code",
   "execution_count": 3,
   "metadata": {},
   "outputs": [],
   "source": [
    "conn = duckdb.connect('dataset_enem.db')\n"
   ]
  },
  {
   "cell_type": "markdown",
   "metadata": {},
   "source": [
    "### Carregando tabela no duckdb com os lotes de dados extraídos do arquivo CSV"
   ]
  },
  {
   "cell_type": "markdown",
   "metadata": {},
   "source": [
    "Tempo de execução 1.5s\n"
   ]
  },
  {
   "cell_type": "code",
   "execution_count": 4,
   "metadata": {},
   "outputs": [
    {
     "data": {
      "text/plain": [
       "┌────────┬─────────────────┬─────────┬─────────────┬─────────────────┬───────────┬───────────┬───────────┬─────────────────┐\n",
       "│ NU_ANO │ TP_FAIXA_ETARIA │ TP_SEXO │ TP_COR_RACA │ TP_ANO_CONCLUIU │ TP_ESCOLA │ TP_ENSINO │ SG_UF_ESC │ TP_ST_CONCLUSAO │\n",
       "│ int64  │      int64      │ varchar │    int64    │      int64      │   int64   │   int64   │  varchar  │      int64      │\n",
       "├────────┼─────────────────┼─────────┼─────────────┼─────────────────┼───────────┼───────────┼───────────┼─────────────────┤\n",
       "│   2023 │              14 │ M       │           1 │              17 │         1 │      NULL │ NULL      │               1 │\n",
       "│   2023 │              12 │ M       │           1 │              16 │         1 │      NULL │ NULL      │               1 │\n",
       "│   2023 │               6 │ F       │           1 │               0 │         1 │      NULL │ NULL      │               1 │\n",
       "│   2023 │               2 │ F       │           3 │               0 │         2 │         1 │ CE        │               2 │\n",
       "│   2023 │               3 │ F       │           3 │               0 │         2 │         1 │ CE        │               2 │\n",
       "│   2023 │               6 │ F       │           3 │               0 │         1 │      NULL │ NULL      │               1 │\n",
       "│   2023 │              11 │ F       │           3 │              12 │         1 │      NULL │ NULL      │               1 │\n",
       "│   2023 │              11 │ M       │           3 │              12 │         1 │      NULL │ NULL      │               1 │\n",
       "│   2023 │               5 │ F       │           2 │               1 │         1 │      NULL │ NULL      │               1 │\n",
       "│   2023 │              11 │ M       │           1 │               8 │         1 │      NULL │ NULL      │               1 │\n",
       "│     ·  │               · │ ·       │           · │               · │         · │         · │  ·        │               · │\n",
       "│     ·  │               · │ ·       │           · │               · │         · │         · │  ·        │               · │\n",
       "│     ·  │               · │ ·       │           · │               · │         · │         · │  ·        │               · │\n",
       "│   2023 │               3 │ F       │           1 │               0 │         2 │         1 │ NULL      │               2 │\n",
       "│   2023 │               3 │ M       │           3 │               0 │         2 │         1 │ AL        │               2 │\n",
       "│   2023 │               2 │ M       │           3 │               0 │         2 │         1 │ RJ        │               2 │\n",
       "│   2023 │               6 │ F       │           1 │               3 │         1 │      NULL │ NULL      │               1 │\n",
       "│   2023 │               4 │ F       │           1 │               1 │         1 │      NULL │ NULL      │               1 │\n",
       "│   2023 │              14 │ F       │           3 │              17 │         1 │      NULL │ NULL      │               1 │\n",
       "│   2023 │              11 │ F       │           2 │               0 │         1 │      NULL │ NULL      │               1 │\n",
       "│   2023 │               3 │ M       │           3 │               0 │         2 │         1 │ PB        │               2 │\n",
       "│   2023 │               2 │ F       │           0 │               0 │         2 │         1 │ PB        │               2 │\n",
       "│   2023 │               7 │ F       │           1 │               5 │         1 │      NULL │ NULL      │               1 │\n",
       "├────────┴─────────────────┴─────────┴─────────────┴─────────────────┴───────────┴───────────┴───────────┴─────────────────┤\n",
       "│ ? rows (>9999 rows, 20 shown)                                                                                  9 columns │\n",
       "└──────────────────────────────────────────────────────────────────────────────────────────────────────────────────────────┘"
      ]
     },
     "execution_count": 4,
     "metadata": {},
     "output_type": "execute_result"
    }
   ],
   "source": [
    "tabela = conn.execute(\n",
    "    f\"\"\"\n",
    "        CREATE TABLE IF NOT EXISTS dataset_enem AS \n",
    "        SELECT \n",
    "            {', '.join(columns)}\n",
    "        FROM read_csv_auto('{path}', delim=';', header=True, ignore_errors=true)\n",
    "    \"\"\"\n",
    ")\n",
    "\n",
    "conn.sql(\"SELECT * from dataset_enem\")"
   ]
  },
  {
   "cell_type": "markdown",
   "metadata": {},
   "source": [
    "### Criando tabela auxiliar com dados tratados utilizando SQL"
   ]
  },
  {
   "cell_type": "code",
   "execution_count": 5,
   "metadata": {},
   "outputs": [
    {
     "data": {
      "text/plain": [
       "┌────────────────────┬───────────┬───────────────┬────────────────────────────────────────────────────┬──────────────────┬────────────────┬────────────────┬───────────────┬────────┐\n",
       "│  NO_FAIXA_ETARIA   │  NO_SEXO  │   NO_ETNIA    │                 DS_CONLUSAO_ENSINO                 │ NU_ANO_CONCLUSAO │ NO_TIPO_ESCOLA │ NO_TIPO_ENSINO │     NO_UF     │ NU_ANO │\n",
       "│      varchar       │  varchar  │    varchar    │                      varchar                       │     varchar      │    varchar     │    varchar     │    varchar    │ int64  │\n",
       "├────────────────────┼───────────┼───────────────┼────────────────────────────────────────────────────┼──────────────────┼────────────────┼────────────────┼───────────────┼────────┤\n",
       "│ Entre 41 e 45 anos │ Masculino │ Branca        │ Já concluí o Ensino Médio                          │ Antes de 2007    │ Não Respondeu  │ Não Informado  │ Não Informado │   2023 │\n",
       "│ Entre 31 e 35 anos │ Masculino │ Branca        │ Já concluí o Ensino Médio                          │ 2007             │ Não Respondeu  │ Não Informado  │ Não Informado │   2023 │\n",
       "│ 21 anos            │ Feminino  │ Branca        │ Já concluí o Ensino Médio                          │ Não informado    │ Não Respondeu  │ Não Informado  │ Não Informado │   2023 │\n",
       "│ 17 anos            │ Feminino  │ Parda         │ Estou cursando e concluirei o Ensino Médio em 2023 │ Não informado    │ Pública        │ Ensino Regular │ CE            │   2023 │\n",
       "│ 18 anos            │ Feminino  │ Parda         │ Estou cursando e concluirei o Ensino Médio em 2023 │ Não informado    │ Pública        │ Ensino Regular │ CE            │   2023 │\n",
       "│ 21 anos            │ Feminino  │ Parda         │ Já concluí o Ensino Médio                          │ Não informado    │ Não Respondeu  │ Não Informado  │ Não Informado │   2023 │\n",
       "│ Entre 26 e 30 anos │ Feminino  │ Parda         │ Já concluí o Ensino Médio                          │ 2011             │ Não Respondeu  │ Não Informado  │ Não Informado │   2023 │\n",
       "│ Entre 26 e 30 anos │ Masculino │ Parda         │ Já concluí o Ensino Médio                          │ 2011             │ Não Respondeu  │ Não Informado  │ Não Informado │   2023 │\n",
       "│ 20 anos            │ Feminino  │ Preta         │ Já concluí o Ensino Médio                          │ 2022             │ Não Respondeu  │ Não Informado  │ Não Informado │   2023 │\n",
       "│ Entre 26 e 30 anos │ Masculino │ Branca        │ Já concluí o Ensino Médio                          │ 2015             │ Não Respondeu  │ Não Informado  │ Não Informado │   2023 │\n",
       "│    ·               │    ·      │   ·           │             ·                                      │  ·               │    ·           │       ·        │       ·       │     ·  │\n",
       "│    ·               │    ·      │   ·           │             ·                                      │  ·               │    ·           │       ·        │       ·       │     ·  │\n",
       "│    ·               │    ·      │   ·           │             ·                                      │  ·               │    ·           │       ·        │       ·       │     ·  │\n",
       "│ 18 anos            │ Feminino  │ Branca        │ Estou cursando e concluirei o Ensino Médio em 2023 │ Não informado    │ Pública        │ Ensino Regular │ Não Informado │   2023 │\n",
       "│ 18 anos            │ Masculino │ Parda         │ Estou cursando e concluirei o Ensino Médio em 2023 │ Não informado    │ Pública        │ Ensino Regular │ AL            │   2023 │\n",
       "│ 17 anos            │ Masculino │ Parda         │ Estou cursando e concluirei o Ensino Médio em 2023 │ Não informado    │ Pública        │ Ensino Regular │ RJ            │   2023 │\n",
       "│ 21 anos            │ Feminino  │ Branca        │ Já concluí o Ensino Médio                          │ 2020             │ Não Respondeu  │ Não Informado  │ Não Informado │   2023 │\n",
       "│ 19 anos            │ Feminino  │ Branca        │ Já concluí o Ensino Médio                          │ 2022             │ Não Respondeu  │ Não Informado  │ Não Informado │   2023 │\n",
       "│ Entre 41 e 45 anos │ Feminino  │ Parda         │ Já concluí o Ensino Médio                          │ Antes de 2007    │ Não Respondeu  │ Não Informado  │ Não Informado │   2023 │\n",
       "│ Entre 26 e 30 anos │ Feminino  │ Preta         │ Já concluí o Ensino Médio                          │ Não informado    │ Não Respondeu  │ Não Informado  │ Não Informado │   2023 │\n",
       "│ 18 anos            │ Masculino │ Parda         │ Estou cursando e concluirei o Ensino Médio em 2023 │ Não informado    │ Pública        │ Ensino Regular │ PB            │   2023 │\n",
       "│ 17 anos            │ Feminino  │ Não declarado │ Estou cursando e concluirei o Ensino Médio em 2023 │ Não informado    │ Pública        │ Ensino Regular │ PB            │   2023 │\n",
       "│ 22 anos            │ Feminino  │ Branca        │ Já concluí o Ensino Médio                          │ 2018             │ Não Respondeu  │ Não Informado  │ Não Informado │   2023 │\n",
       "├────────────────────┴───────────┴───────────────┴────────────────────────────────────────────────────┴──────────────────┴────────────────┴────────────────┴───────────────┴────────┤\n",
       "│ ? rows (>9999 rows, 20 shown)                                                                                                                                           9 columns │\n",
       "└───────────────────────────────────────────────────────────────────────────────────────────────────────────────────────────────────────────────────────────────────────────────────┘"
      ]
     },
     "execution_count": 5,
     "metadata": {},
     "output_type": "execute_result"
    }
   ],
   "source": [
    "conn.sql(\"\"\"\n",
    "CREATE OR REPLACE TABLE dataset_enem_tratado AS\n",
    "    SELECT \n",
    "        CASE\n",
    "            WHEN TP_FAIXA_ETARIA = 1 THEN 'Menor de 17 anos'\n",
    "            WHEN TP_FAIXA_ETARIA = 2 THEN '17 anos'\n",
    "            WHEN TP_FAIXA_ETARIA = 3 THEN '18 anos'\n",
    "            WHEN TP_FAIXA_ETARIA = 4 THEN '19 anos'\n",
    "            WHEN TP_FAIXA_ETARIA = 5 THEN '20 anos'\n",
    "            WHEN TP_FAIXA_ETARIA = 6 THEN '21 anos'\n",
    "            WHEN TP_FAIXA_ETARIA = 7 THEN '22 anos'\n",
    "            WHEN TP_FAIXA_ETARIA = 8 THEN '23 anos'\n",
    "            WHEN TP_FAIXA_ETARIA = 9 THEN '24 anos'\n",
    "            WHEN TP_FAIXA_ETARIA = 10 THEN '25 anos'\n",
    "            WHEN TP_FAIXA_ETARIA = 11 THEN 'Entre 26 e 30 anos'\n",
    "            WHEN TP_FAIXA_ETARIA = 12 THEN 'Entre 31 e 35 anos'\n",
    "            WHEN TP_FAIXA_ETARIA = 13 THEN 'Entre 36 e 40 anos'\n",
    "            WHEN TP_FAIXA_ETARIA = 14 THEN 'Entre 41 e 45 anos'\n",
    "            WHEN TP_FAIXA_ETARIA = 15 THEN 'Entre 46 e 50 anos'\n",
    "            WHEN TP_FAIXA_ETARIA = 16 THEN 'Entre 51 e 55 anos'\n",
    "            WHEN TP_FAIXA_ETARIA = 17 THEN 'Entre 56 e 60 anos'\n",
    "            WHEN TP_FAIXA_ETARIA = 18 THEN 'Entre 61 e 65 anos'\n",
    "            WHEN TP_FAIXA_ETARIA = 19 THEN 'Entre 66 e 70 anos'\n",
    "            WHEN TP_FAIXA_ETARIA = 20 THEN 'Maior de 70 anos'\n",
    "            ELSE 'Não Informado'\n",
    "        END NO_FAIXA_ETARIA\n",
    "        , CASE\n",
    "            WHEN TP_SEXO = 'M' THEN 'Masculino'\n",
    "            WHEN TP_SEXO = 'F' THEN 'Feminino'\n",
    "            ELSE 'Não Informado'\n",
    "        END NO_SEXO\n",
    "        , CASE\n",
    "            WHEN TP_COR_RACA = '0' THEN 'Não declarado'\n",
    "            WHEN TP_COR_RACA = '1' THEN 'Branca'\n",
    "            WHEN TP_COR_RACA = '2' THEN 'Preta'\n",
    "            WHEN TP_COR_RACA = '3' THEN 'Parda'\n",
    "            WHEN TP_COR_RACA = '4' THEN 'Amarela'\n",
    "            WHEN TP_COR_RACA = '5' THEN 'Indígena '\n",
    "            WHEN TP_COR_RACA = '6' THEN 'Não dispõe da informação'\n",
    "            ELSE 'Não Informado'\n",
    "        END NO_ETNIA\n",
    "        , CASE\n",
    "            WHEN TP_ST_CONCLUSAO = 1 THEN 'Já concluí o Ensino Médio'\n",
    "            WHEN TP_ST_CONCLUSAO = 2 THEN 'Estou cursando e concluirei o Ensino Médio em 2023'\n",
    "            WHEN TP_ST_CONCLUSAO = 3 THEN 'Estou cursando e concluirei o Ensino Médio após 2023'\n",
    "            WHEN TP_ST_CONCLUSAO = 4 THEN 'Não concluí e não estou cursando o Ensino Médio'\n",
    "            ELSE 'Não Informado'\n",
    "        END DS_CONLUSAO_ENSINO\n",
    "        , CASE\n",
    "            WHEN TP_ANO_CONCLUIU = 0 THEN 'Não informado'\n",
    "            WHEN TP_ANO_CONCLUIU = 1 THEN '2022'\n",
    "            WHEN TP_ANO_CONCLUIU = 2 THEN '2021'\n",
    "            WHEN TP_ANO_CONCLUIU = 3 THEN '2020'\n",
    "            WHEN TP_ANO_CONCLUIU = 4 THEN '2019'\n",
    "            WHEN TP_ANO_CONCLUIU = 5 THEN '2018'\n",
    "            WHEN TP_ANO_CONCLUIU = 6 THEN '2017'\n",
    "            WHEN TP_ANO_CONCLUIU = 7 THEN '2016'\n",
    "            WHEN TP_ANO_CONCLUIU = 8 THEN '2015'\n",
    "            WHEN TP_ANO_CONCLUIU = 9 THEN '2014'\n",
    "            WHEN TP_ANO_CONCLUIU = 10 THEN '2013'\n",
    "            WHEN TP_ANO_CONCLUIU = 11 THEN '2012'\n",
    "            WHEN TP_ANO_CONCLUIU = 12 THEN '2011'\n",
    "            WHEN TP_ANO_CONCLUIU = 13 THEN '2010'\n",
    "            WHEN TP_ANO_CONCLUIU = 14 THEN '2009'\n",
    "            WHEN TP_ANO_CONCLUIU = 15 THEN '2008'\n",
    "            WHEN TP_ANO_CONCLUIU = 16 THEN '2007'\n",
    "            WHEN TP_ANO_CONCLUIU = 17 THEN 'Antes de 2007'\n",
    "            ELSE 'Não Informado'\n",
    "        END NU_ANO_CONCLUSAO\n",
    "        , CASE\n",
    "            WHEN TP_ESCOLA = 1 THEN 'Não Respondeu'\n",
    "            WHEN TP_ESCOLA = 2 THEN 'Pública'\n",
    "            WHEN TP_ESCOLA = 3 THEN 'Privada'\n",
    "            ELSE 'Não Informado'\n",
    "        END NO_TIPO_ESCOLA\n",
    "        , CASE\n",
    "            WHEN TP_ENSINO = 1 THEN 'Ensino Regular'\n",
    "            WHEN TP_ENSINO = 2 THEN 'Educação Especial - Modalidade Substitutiva'\n",
    "            ELSE 'Não Informado'\n",
    "        END NO_TIPO_ENSINO\n",
    "        , COALESCE(de.SG_UF_ESC, 'Não Informado') NO_UF\n",
    "        , COALESCE(de.NU_ANO, 2023) NU_ANO\n",
    "    FROM dataset_enem de\n",
    "\"\"\")\n",
    "conn.sql(\"SELECT * FROM dataset_enem_tratado\")"
   ]
  },
  {
   "cell_type": "markdown",
   "metadata": {},
   "source": [
    "### Qual é a quantidade e o percentual de candidatos formados e não formados no ensino médio?"
   ]
  },
  {
   "cell_type": "code",
   "execution_count": 6,
   "metadata": {},
   "outputs": [
    {
     "data": {
      "text/plain": [
       "┌──────────────────────────────────────────────────────┬───────────────┬─────────────────────┐\n",
       "│                  DS_CONLUSAO_ENSINO                  │ QT_CANDIDATOS │ QT_PERCENTUAL_TOTAL │\n",
       "│                       varchar                        │     int64     │       double        │\n",
       "├──────────────────────────────────────────────────────┼───────────────┼─────────────────────┤\n",
       "│ Estou cursando e concluirei o Ensino Médio em 2023   │       1401164 │   35.61718423316993 │\n",
       "│ Já concluí o Ensino Médio                            │       1895301 │   48.17800406969576 │\n",
       "│ Não concluí e não estou cursando o Ensino Médio      │         17423 │ 0.44288762835365425 │\n",
       "│ Estou cursando e concluirei o Ensino Médio após 2023 │        620067 │  15.761924068780656 │\n",
       "└──────────────────────────────────────────────────────┴───────────────┴─────────────────────┘"
      ]
     },
     "execution_count": 6,
     "metadata": {},
     "output_type": "execute_result"
    }
   ],
   "source": [
    "conn.sql(\"\"\"\n",
    "    SELECT \n",
    "        DS_CONLUSAO_ENSINO\n",
    "        , COUNT(1) QT_CANDIDATOS \n",
    "        , (COUNT(1) / (SELECT COUNT(1) FROM dataset_enem_tratado)*100) QT_PERCENTUAL_TOTAL\n",
    "    FROM dataset_enem_tratado\n",
    "    GROUP BY DS_CONLUSAO_ENSINO \n",
    "\"\"\")"
   ]
  },
  {
   "cell_type": "markdown",
   "metadata": {},
   "source": [
    "### Qual é a distribuição de participação dos candidatos por:\n",
    "    - Estado;\n",
    "    - Tipo de escola (Pública e Privada);\n",
    "    - Sexo;\n",
    "    - Cor/raça;\n",
    "    - Faixa Etária."
   ]
  },
  {
   "cell_type": "code",
   "execution_count": 7,
   "metadata": {},
   "outputs": [
    {
     "data": {
      "text/plain": [
       "┌─────────┬────────────────┬───────────────┬───────────┬────────────────────┬───────────────┐\n",
       "│  NO_UF  │ NO_TIPO_ESCOLA │   NO_ETNIA    │  NO_SEXO  │  NO_FAIXA_ETARIA   │ QT_CANDIDATOS │\n",
       "│ varchar │    varchar     │    varchar    │  varchar  │      varchar       │     int64     │\n",
       "├─────────┼────────────────┼───────────────┼───────────┼────────────────────┼───────────────┤\n",
       "│ SP      │ Pública        │ Branca        │ Feminino  │ 18 anos            │         23247 │\n",
       "│ DF      │ Privada        │ Branca        │ Feminino  │ 18 anos            │          1030 │\n",
       "│ SC      │ Pública        │ Branca        │ Feminino  │ 18 anos            │          6544 │\n",
       "│ CE      │ Pública        │ Branca        │ Feminino  │ 18 anos            │          4849 │\n",
       "│ RN      │ Privada        │ Parda         │ Masculino │ 18 anos            │           309 │\n",
       "│ SP      │ Privada        │ Branca        │ Feminino  │ 18 anos            │         10676 │\n",
       "│ PR      │ Privada        │ Branca        │ Feminino  │ 17 anos            │          4411 │\n",
       "│ RJ      │ Privada        │ Parda         │ Masculino │ 18 anos            │          1086 │\n",
       "│ RS      │ Pública        │ Parda         │ Feminino  │ 19 anos            │           320 │\n",
       "│ BA      │ Pública        │ Parda         │ Feminino  │ 17 anos            │          2599 │\n",
       "│ ·       │    ·           │   ·           │    ·      │    ·               │             · │\n",
       "│ ·       │    ·           │   ·           │    ·      │    ·               │             · │\n",
       "│ ·       │    ·           │   ·           │    ·      │    ·               │             · │\n",
       "│ RR      │ Pública        │ Não declarado │ Feminino  │ 19 anos            │             1 │\n",
       "│ PI      │ Pública        │ Indígena      │ Feminino  │ 21 anos            │             2 │\n",
       "│ SC      │ Pública        │ Parda         │ Masculino │ Entre 56 e 60 anos │             1 │\n",
       "│ DF      │ Pública        │ Preta         │ Feminino  │ Maior de 70 anos   │             1 │\n",
       "│ TO      │ Pública        │ Amarela       │ Feminino  │ Entre 36 e 40 anos │             1 │\n",
       "│ PI      │ Pública        │ Amarela       │ Masculino │ Entre 41 e 45 anos │             1 │\n",
       "│ PE      │ Pública        │ Não declarado │ Masculino │ Entre 26 e 30 anos │             3 │\n",
       "│ PI      │ Pública        │ Branca        │ Masculino │ Entre 51 e 55 anos │             1 │\n",
       "│ RR      │ Pública        │ Indígena      │ Feminino  │ Entre 31 e 35 anos │             1 │\n",
       "│ SP      │ Pública        │ Amarela       │ Feminino  │ Menor de 17 anos   │             1 │\n",
       "├─────────┴────────────────┴───────────────┴───────────┴────────────────────┴───────────────┤\n",
       "│ 5448 rows (20 shown)                                                            6 columns │\n",
       "└───────────────────────────────────────────────────────────────────────────────────────────┘"
      ]
     },
     "execution_count": 7,
     "metadata": {},
     "output_type": "execute_result"
    }
   ],
   "source": [
    "conn.sql(\"\"\"\n",
    "    SELECT \n",
    "        NO_UF\n",
    "        , NO_TIPO_ESCOLA\n",
    "        , NO_ETNIA\n",
    "        , NO_SEXO\n",
    "        , NO_FAIXA_ETARIA\n",
    "        , COUNT(1) QT_CANDIDATOS \n",
    "    FROM dataset_enem_tratado\n",
    "    WHERE NO_UF <> 'Não Informado'\n",
    "    GROUP BY NO_UF\n",
    "        , NO_TIPO_ESCOLA\n",
    "        , NO_ETNIA\n",
    "        , NO_SEXO\n",
    "        , NO_FAIXA_ETARIA \n",
    "\"\"\")"
   ]
  }
 ],
 "metadata": {
  "kernelspec": {
   "display_name": "enem",
   "language": "python",
   "name": "python3"
  },
  "language_info": {
   "codemirror_mode": {
    "name": "ipython",
    "version": 3
   },
   "file_extension": ".py",
   "mimetype": "text/x-python",
   "name": "python",
   "nbconvert_exporter": "python",
   "pygments_lexer": "ipython3",
   "version": "3.10.11"
  }
 },
 "nbformat": 4,
 "nbformat_minor": 2
}
